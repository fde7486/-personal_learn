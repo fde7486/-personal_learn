{
 "cells": [
  {
   "cell_type": "code",
   "execution_count": null,
   "metadata": {},
   "outputs": [
    {
     "name": "stdout",
     "output_type": "stream",
     "text": [
      "Client message is: Hello, how are you!\n",
      "Client message is: Hello, how are you!\n",
      "Client message is: Hello, how are you!\n",
      "Client message is: Hello, how are you!\n",
      "Client message is: Hello, how are you!\n",
      "Client message is: Hello, how are you!\n",
      "Client message is: Hello, how are you!\n",
      "Client message is: Hello, how are you!\n",
      "Client message is: Hello, how are you!\n",
      "Client message is: Hello, how are you!\n"
     ]
    }
   ],
   "source": [
    "import socket\n",
    "HOST = '192.168.0.94'\n",
    "PORT = 6000\n",
    "\n",
    "server = socket.socket(socket.AF_INET, socket.SOCK_STREAM)\n",
    "server.bind((HOST, PORT))\n",
    "server.listen(10)\n",
    "\n",
    "while True:\n",
    "    conn, addr = server.accept()\n",
    "    clientMessage = str(conn.recv(1024), encoding='utf-8')\n",
    "\n",
    "    print('Client message is:', clientMessage)\n",
    "\n",
    "    serverMessage = 'I\\'m here!'\n",
    "    \n",
    "    conn.sendall(serverMessage.encode())\n",
    "    conn.close()\n"
   ]
  },
  {
   "cell_type": "code",
   "execution_count": null,
   "metadata": {},
   "outputs": [],
   "source": [
    "import socket\n",
    "HOST = '192.168.0.94'\n",
    "PORT = 6000\n",
    "\n",
    "server = socket.socket(socket.AF_INET, socket.SOCK_STREAM)\n",
    "server.bind((HOST, PORT))\n",
    "server.listen(10)\n",
    "\n",
    "while True:\n",
    "    conn, addr = server.accept()\n",
    "    clientMessage = str(conn.recv(1024), encoding='utf-8')\n",
    "\n",
    "    print('Client message is:', clientMessage)\n",
    "\n",
    "    serverMessage = clientMessage\n",
    "    \n",
    "    conn.sendall(serverMessage.encode())\n",
    "    conn.close()\n"
   ]
  }
 ],
 "metadata": {
  "kernelspec": {
   "display_name": "Python 3",
   "language": "python",
   "name": "python3"
  },
  "language_info": {
   "codemirror_mode": {
    "name": "ipython",
    "version": 3
   },
   "file_extension": ".py",
   "mimetype": "text/x-python",
   "name": "python",
   "nbconvert_exporter": "python",
   "pygments_lexer": "ipython3",
   "version": "3.6.10"
  }
 },
 "nbformat": 4,
 "nbformat_minor": 4
}
