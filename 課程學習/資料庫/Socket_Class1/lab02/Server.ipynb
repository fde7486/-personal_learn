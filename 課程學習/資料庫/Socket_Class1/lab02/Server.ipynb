{
 "cells": [
  {
   "cell_type": "code",
   "execution_count": null,
   "metadata": {},
   "outputs": [
    {
     "name": "stdout",
     "output_type": "stream",
     "text": [
      "Client message is: Hello, how are you!\n",
      "Client message is: Hello, how are you!\n",
      "Client message is: Hello, how are you!\n",
      "Client message is: Hello, how are you!\n",
      "Client message is: Hello, how are you!\n",
      "Client message is: Hello, how are you!\n",
      "Client message is: Hello, how are you!\n",
      "Client message is: Hello, how are you!\n",
      "Client message is: Hello, how are you!\n",
      "Client message is: Hello, how are you!\n"
     ]
    }
   ],
   "source": [
    "import socket\n",
    "HOST = '192.168.0.94'\n",
    "PORT = 6000\n",
    "\n",
    "server = socket.socket(socket.AF_INET, socket.SOCK_STREAM)\n",
    "server.bind((HOST, PORT))\n",
    "server.listen(10)\n",
    "\n",
    "while True:\n",
    "    conn, addr = server.accept()\n",
    "    clientMessage = str(conn.recv(1024), encoding='utf-8')\n",
    "\n",
    "    print('Client message is:', clientMessage)\n",
    "\n",
    "    serverMessage = 'I\\'m here!'\n",
    "    \n",
    "    conn.sendall(serverMessage.encode())\n",
    "    conn.close()\n"
   ]
  },
  {
   "cell_type": "code",
   "execution_count": null,
   "metadata": {},
   "outputs": [
    {
     "name": "stdout",
     "output_type": "stream",
     "text": [
      "Client message is: 第1句 : Hello\n",
      "Client message is: 第2句 : 讚喔\n",
      "Client message is: 第3句 : 我們要怎麼聊天\n",
      "Client message is: 第4句 : 不要都學我講話啦QQ\n",
      "Client message is: 第5句 : 給我一個機會\n",
      "Client message is: 第6句 : 123\n",
      "Client message is: 第7句 : 456\n",
      "Client message is: 第8句 : 789\n",
      "Client message is: 第9句 : 10\n",
      "Client message is: 第10句 : 10\n"
     ]
    }
   ],
   "source": [
    "import socket\n",
    "HOST = '192.168.0.94'\n",
    "PORT = 6000\n",
    "\n",
    "server = socket.socket(socket.AF_INET, socket.SOCK_STREAM)\n",
    "server.bind((HOST, PORT))\n",
    "server.listen(10)\n",
    "\n",
    "while True:\n",
    "    conn, addr = server.accept()\n",
    "    clientMessage = str(conn.recv(1024), encoding='utf-8')\n",
    "\n",
    "    print('Client message is:', clientMessage)\n",
    "\n",
    "    serverMessage = clientMessage\n",
    "    \n",
    "    conn.sendall(serverMessage.encode())\n",
    "    conn.close()\n"
   ]
  },
  {
   "cell_type": "code",
   "execution_count": null,
   "metadata": {},
   "outputs": [],
   "source": []
  }
 ],
 "metadata": {
  "kernelspec": {
   "display_name": "Python 3",
   "language": "python",
   "name": "python3"
  },
  "language_info": {
   "codemirror_mode": {
    "name": "ipython",
    "version": 3
   },
   "file_extension": ".py",
   "mimetype": "text/x-python",
   "name": "python",
   "nbconvert_exporter": "python",
   "pygments_lexer": "ipython3",
   "version": "3.6.10"
  }
 },
 "nbformat": 4,
 "nbformat_minor": 4
}
